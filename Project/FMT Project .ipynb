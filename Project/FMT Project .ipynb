{
 "cells": [
  {
   "cell_type": "markdown",
   "id": "ff3982c0",
   "metadata": {},
   "source": [
    "## Importing basic Libraries "
   ]
  },
  {
   "cell_type": "code",
   "execution_count": 1,
   "id": "6a2c3354",
   "metadata": {},
   "outputs": [],
   "source": [
    "import pandas as pd\n",
    "import numpy as np \n",
    "import warnings\n",
    "warnings.filterwarnings('ignore')"
   ]
  },
  {
   "cell_type": "markdown",
   "id": "24f0c659",
   "metadata": {},
   "source": [
    "### Load data & Exploratory Data Analysis "
   ]
  },
  {
   "cell_type": "code",
   "execution_count": 2,
   "id": "68c9a789",
   "metadata": {},
   "outputs": [
    {
     "data": {
      "text/html": [
       "<div>\n",
       "<style scoped>\n",
       "    .dataframe tbody tr th:only-of-type {\n",
       "        vertical-align: middle;\n",
       "    }\n",
       "\n",
       "    .dataframe tbody tr th {\n",
       "        vertical-align: top;\n",
       "    }\n",
       "\n",
       "    .dataframe thead th {\n",
       "        text-align: right;\n",
       "    }\n",
       "</style>\n",
       "<table border=\"1\" class=\"dataframe\">\n",
       "  <thead>\n",
       "    <tr style=\"text-align: right;\">\n",
       "      <th></th>\n",
       "      <th>Time</th>\n",
       "      <th>0</th>\n",
       "      <th>1</th>\n",
       "      <th>2</th>\n",
       "      <th>3</th>\n",
       "      <th>4</th>\n",
       "      <th>5</th>\n",
       "      <th>6</th>\n",
       "      <th>7</th>\n",
       "      <th>8</th>\n",
       "      <th>...</th>\n",
       "      <th>581</th>\n",
       "      <th>582</th>\n",
       "      <th>583</th>\n",
       "      <th>584</th>\n",
       "      <th>585</th>\n",
       "      <th>586</th>\n",
       "      <th>587</th>\n",
       "      <th>588</th>\n",
       "      <th>589</th>\n",
       "      <th>Pass/Fail</th>\n",
       "    </tr>\n",
       "  </thead>\n",
       "  <tbody>\n",
       "    <tr>\n",
       "      <th>0</th>\n",
       "      <td>2008-07-19 11:55:00</td>\n",
       "      <td>3030.93</td>\n",
       "      <td>2564.00</td>\n",
       "      <td>2187.7333</td>\n",
       "      <td>1411.1265</td>\n",
       "      <td>1.3602</td>\n",
       "      <td>100.0</td>\n",
       "      <td>97.6133</td>\n",
       "      <td>0.1242</td>\n",
       "      <td>1.5005</td>\n",
       "      <td>...</td>\n",
       "      <td>NaN</td>\n",
       "      <td>0.5005</td>\n",
       "      <td>0.0118</td>\n",
       "      <td>0.0035</td>\n",
       "      <td>2.3630</td>\n",
       "      <td>NaN</td>\n",
       "      <td>NaN</td>\n",
       "      <td>NaN</td>\n",
       "      <td>NaN</td>\n",
       "      <td>-1</td>\n",
       "    </tr>\n",
       "    <tr>\n",
       "      <th>1</th>\n",
       "      <td>2008-07-19 12:32:00</td>\n",
       "      <td>3095.78</td>\n",
       "      <td>2465.14</td>\n",
       "      <td>2230.4222</td>\n",
       "      <td>1463.6606</td>\n",
       "      <td>0.8294</td>\n",
       "      <td>100.0</td>\n",
       "      <td>102.3433</td>\n",
       "      <td>0.1247</td>\n",
       "      <td>1.4966</td>\n",
       "      <td>...</td>\n",
       "      <td>208.2045</td>\n",
       "      <td>0.5019</td>\n",
       "      <td>0.0223</td>\n",
       "      <td>0.0055</td>\n",
       "      <td>4.4447</td>\n",
       "      <td>0.0096</td>\n",
       "      <td>0.0201</td>\n",
       "      <td>0.0060</td>\n",
       "      <td>208.2045</td>\n",
       "      <td>-1</td>\n",
       "    </tr>\n",
       "    <tr>\n",
       "      <th>2</th>\n",
       "      <td>2008-07-19 13:17:00</td>\n",
       "      <td>2932.61</td>\n",
       "      <td>2559.94</td>\n",
       "      <td>2186.4111</td>\n",
       "      <td>1698.0172</td>\n",
       "      <td>1.5102</td>\n",
       "      <td>100.0</td>\n",
       "      <td>95.4878</td>\n",
       "      <td>0.1241</td>\n",
       "      <td>1.4436</td>\n",
       "      <td>...</td>\n",
       "      <td>82.8602</td>\n",
       "      <td>0.4958</td>\n",
       "      <td>0.0157</td>\n",
       "      <td>0.0039</td>\n",
       "      <td>3.1745</td>\n",
       "      <td>0.0584</td>\n",
       "      <td>0.0484</td>\n",
       "      <td>0.0148</td>\n",
       "      <td>82.8602</td>\n",
       "      <td>1</td>\n",
       "    </tr>\n",
       "    <tr>\n",
       "      <th>3</th>\n",
       "      <td>2008-07-19 14:43:00</td>\n",
       "      <td>2988.72</td>\n",
       "      <td>2479.90</td>\n",
       "      <td>2199.0333</td>\n",
       "      <td>909.7926</td>\n",
       "      <td>1.3204</td>\n",
       "      <td>100.0</td>\n",
       "      <td>104.2367</td>\n",
       "      <td>0.1217</td>\n",
       "      <td>1.4882</td>\n",
       "      <td>...</td>\n",
       "      <td>73.8432</td>\n",
       "      <td>0.4990</td>\n",
       "      <td>0.0103</td>\n",
       "      <td>0.0025</td>\n",
       "      <td>2.0544</td>\n",
       "      <td>0.0202</td>\n",
       "      <td>0.0149</td>\n",
       "      <td>0.0044</td>\n",
       "      <td>73.8432</td>\n",
       "      <td>-1</td>\n",
       "    </tr>\n",
       "    <tr>\n",
       "      <th>4</th>\n",
       "      <td>2008-07-19 15:22:00</td>\n",
       "      <td>3032.24</td>\n",
       "      <td>2502.87</td>\n",
       "      <td>2233.3667</td>\n",
       "      <td>1326.5200</td>\n",
       "      <td>1.5334</td>\n",
       "      <td>100.0</td>\n",
       "      <td>100.3967</td>\n",
       "      <td>0.1235</td>\n",
       "      <td>1.5031</td>\n",
       "      <td>...</td>\n",
       "      <td>NaN</td>\n",
       "      <td>0.4800</td>\n",
       "      <td>0.4766</td>\n",
       "      <td>0.1045</td>\n",
       "      <td>99.3032</td>\n",
       "      <td>0.0202</td>\n",
       "      <td>0.0149</td>\n",
       "      <td>0.0044</td>\n",
       "      <td>73.8432</td>\n",
       "      <td>-1</td>\n",
       "    </tr>\n",
       "  </tbody>\n",
       "</table>\n",
       "<p>5 rows × 592 columns</p>\n",
       "</div>"
      ],
      "text/plain": [
       "                  Time        0        1          2          3       4      5  \\\n",
       "0  2008-07-19 11:55:00  3030.93  2564.00  2187.7333  1411.1265  1.3602  100.0   \n",
       "1  2008-07-19 12:32:00  3095.78  2465.14  2230.4222  1463.6606  0.8294  100.0   \n",
       "2  2008-07-19 13:17:00  2932.61  2559.94  2186.4111  1698.0172  1.5102  100.0   \n",
       "3  2008-07-19 14:43:00  2988.72  2479.90  2199.0333   909.7926  1.3204  100.0   \n",
       "4  2008-07-19 15:22:00  3032.24  2502.87  2233.3667  1326.5200  1.5334  100.0   \n",
       "\n",
       "          6       7       8  ...       581     582     583     584      585  \\\n",
       "0   97.6133  0.1242  1.5005  ...       NaN  0.5005  0.0118  0.0035   2.3630   \n",
       "1  102.3433  0.1247  1.4966  ...  208.2045  0.5019  0.0223  0.0055   4.4447   \n",
       "2   95.4878  0.1241  1.4436  ...   82.8602  0.4958  0.0157  0.0039   3.1745   \n",
       "3  104.2367  0.1217  1.4882  ...   73.8432  0.4990  0.0103  0.0025   2.0544   \n",
       "4  100.3967  0.1235  1.5031  ...       NaN  0.4800  0.4766  0.1045  99.3032   \n",
       "\n",
       "      586     587     588       589  Pass/Fail  \n",
       "0     NaN     NaN     NaN       NaN         -1  \n",
       "1  0.0096  0.0201  0.0060  208.2045         -1  \n",
       "2  0.0584  0.0484  0.0148   82.8602          1  \n",
       "3  0.0202  0.0149  0.0044   73.8432         -1  \n",
       "4  0.0202  0.0149  0.0044   73.8432         -1  \n",
       "\n",
       "[5 rows x 592 columns]"
      ]
     },
     "execution_count": 2,
     "metadata": {},
     "output_type": "execute_result"
    }
   ],
   "source": [
    "df = pd.read_csv('signal-data.csv')\n",
    "df.head()"
   ]
  },
  {
   "cell_type": "code",
   "execution_count": 3,
   "id": "1ed890f9",
   "metadata": {},
   "outputs": [
    {
     "data": {
      "text/plain": [
       "(1567, 592)"
      ]
     },
     "execution_count": 3,
     "metadata": {},
     "output_type": "execute_result"
    }
   ],
   "source": [
    "df.shape"
   ]
  },
  {
   "cell_type": "code",
   "execution_count": 4,
   "id": "fd61d657",
   "metadata": {},
   "outputs": [
    {
     "name": "stdout",
     "output_type": "stream",
     "text": [
      "<class 'pandas.core.frame.DataFrame'>\n",
      "RangeIndex: 1567 entries, 0 to 1566\n",
      "Columns: 592 entries, Time to Pass/Fail\n",
      "dtypes: float64(590), int64(1), object(1)\n",
      "memory usage: 7.1+ MB\n"
     ]
    }
   ],
   "source": [
    "df.info()"
   ]
  },
  {
   "cell_type": "code",
   "execution_count": 5,
   "id": "c969a777",
   "metadata": {},
   "outputs": [
    {
     "data": {
      "text/plain": [
       "Index(['Time', '0', '1', '2', '3', '4', '5', '6', '7', '8',\n",
       "       ...\n",
       "       '581', '582', '583', '584', '585', '586', '587', '588', '589',\n",
       "       'Pass/Fail'],\n",
       "      dtype='object', length=592)"
      ]
     },
     "execution_count": 5,
     "metadata": {},
     "output_type": "execute_result"
    }
   ],
   "source": [
    "df.columns"
   ]
  },
  {
   "cell_type": "code",
   "execution_count": 6,
   "id": "710b8aee",
   "metadata": {},
   "outputs": [
    {
     "data": {
      "text/plain": [
       "Time          0\n",
       "0             6\n",
       "1             7\n",
       "2            14\n",
       "3            14\n",
       "             ..\n",
       "586           1\n",
       "587           1\n",
       "588           1\n",
       "589           1\n",
       "Pass/Fail     0\n",
       "Length: 592, dtype: int64"
      ]
     },
     "execution_count": 6,
     "metadata": {},
     "output_type": "execute_result"
    }
   ],
   "source": [
    "df.isna().sum()"
   ]
  },
  {
   "cell_type": "code",
   "execution_count": 7,
   "id": "b66bab82",
   "metadata": {},
   "outputs": [],
   "source": [
    "df=df.fillna(df.mean())"
   ]
  },
  {
   "cell_type": "code",
   "execution_count": 8,
   "id": "6b3fabcf",
   "metadata": {},
   "outputs": [
    {
     "data": {
      "text/plain": [
       "Time         0\n",
       "0            0\n",
       "1            0\n",
       "2            0\n",
       "3            0\n",
       "            ..\n",
       "586          0\n",
       "587          0\n",
       "588          0\n",
       "589          0\n",
       "Pass/Fail    0\n",
       "Length: 592, dtype: int64"
      ]
     },
     "execution_count": 8,
     "metadata": {},
     "output_type": "execute_result"
    }
   ],
   "source": [
    "df.isna().sum()"
   ]
  },
  {
   "cell_type": "code",
   "execution_count": 9,
   "id": "8359c27b",
   "metadata": {},
   "outputs": [
    {
     "data": {
      "text/plain": [
       "-1    1463\n",
       " 1     104\n",
       "Name: Pass/Fail, dtype: int64"
      ]
     },
     "execution_count": 9,
     "metadata": {},
     "output_type": "execute_result"
    }
   ],
   "source": [
    "df['Pass/Fail'].value_counts().sort_index()"
   ]
  },
  {
   "cell_type": "code",
   "execution_count": 10,
   "id": "4cced86e",
   "metadata": {},
   "outputs": [
    {
     "data": {
      "text/html": [
       "<div>\n",
       "<style scoped>\n",
       "    .dataframe tbody tr th:only-of-type {\n",
       "        vertical-align: middle;\n",
       "    }\n",
       "\n",
       "    .dataframe tbody tr th {\n",
       "        vertical-align: top;\n",
       "    }\n",
       "\n",
       "    .dataframe thead th {\n",
       "        text-align: right;\n",
       "    }\n",
       "</style>\n",
       "<table border=\"1\" class=\"dataframe\">\n",
       "  <thead>\n",
       "    <tr style=\"text-align: right;\">\n",
       "      <th></th>\n",
       "      <th>count</th>\n",
       "      <th>mean</th>\n",
       "      <th>std</th>\n",
       "      <th>min</th>\n",
       "      <th>25%</th>\n",
       "      <th>50%</th>\n",
       "      <th>75%</th>\n",
       "      <th>max</th>\n",
       "    </tr>\n",
       "  </thead>\n",
       "  <tbody>\n",
       "    <tr>\n",
       "      <th>0</th>\n",
       "      <td>1567.0</td>\n",
       "      <td>3014.452896</td>\n",
       "      <td>73.480613</td>\n",
       "      <td>2743.2400</td>\n",
       "      <td>2966.66500</td>\n",
       "      <td>3011.8400</td>\n",
       "      <td>3056.5400</td>\n",
       "      <td>3356.3500</td>\n",
       "    </tr>\n",
       "    <tr>\n",
       "      <th>1</th>\n",
       "      <td>1567.0</td>\n",
       "      <td>2495.850231</td>\n",
       "      <td>80.227793</td>\n",
       "      <td>2158.7500</td>\n",
       "      <td>2452.88500</td>\n",
       "      <td>2498.9100</td>\n",
       "      <td>2538.7450</td>\n",
       "      <td>2846.4400</td>\n",
       "    </tr>\n",
       "    <tr>\n",
       "      <th>2</th>\n",
       "      <td>1567.0</td>\n",
       "      <td>2200.547318</td>\n",
       "      <td>29.380932</td>\n",
       "      <td>2060.6600</td>\n",
       "      <td>2181.09995</td>\n",
       "      <td>2200.9556</td>\n",
       "      <td>2218.0555</td>\n",
       "      <td>2315.2667</td>\n",
       "    </tr>\n",
       "    <tr>\n",
       "      <th>3</th>\n",
       "      <td>1567.0</td>\n",
       "      <td>1396.376627</td>\n",
       "      <td>439.712852</td>\n",
       "      <td>0.0000</td>\n",
       "      <td>1083.88580</td>\n",
       "      <td>1287.3538</td>\n",
       "      <td>1590.1699</td>\n",
       "      <td>3715.0417</td>\n",
       "    </tr>\n",
       "    <tr>\n",
       "      <th>4</th>\n",
       "      <td>1567.0</td>\n",
       "      <td>4.197013</td>\n",
       "      <td>56.103066</td>\n",
       "      <td>0.6815</td>\n",
       "      <td>1.01770</td>\n",
       "      <td>1.3171</td>\n",
       "      <td>1.5296</td>\n",
       "      <td>1114.5366</td>\n",
       "    </tr>\n",
       "  </tbody>\n",
       "</table>\n",
       "</div>"
      ],
      "text/plain": [
       "    count         mean         std        min         25%        50%  \\\n",
       "0  1567.0  3014.452896   73.480613  2743.2400  2966.66500  3011.8400   \n",
       "1  1567.0  2495.850231   80.227793  2158.7500  2452.88500  2498.9100   \n",
       "2  1567.0  2200.547318   29.380932  2060.6600  2181.09995  2200.9556   \n",
       "3  1567.0  1396.376627  439.712852     0.0000  1083.88580  1287.3538   \n",
       "4  1567.0     4.197013   56.103066     0.6815     1.01770     1.3171   \n",
       "\n",
       "         75%        max  \n",
       "0  3056.5400  3356.3500  \n",
       "1  2538.7450  2846.4400  \n",
       "2  2218.0555  2315.2667  \n",
       "3  1590.1699  3715.0417  \n",
       "4     1.5296  1114.5366  "
      ]
     },
     "execution_count": 10,
     "metadata": {},
     "output_type": "execute_result"
    }
   ],
   "source": [
    "df.describe().T.head()"
   ]
  },
  {
   "cell_type": "markdown",
   "id": "a796956c",
   "metadata": {},
   "source": [
    "## Data Visualization "
   ]
  },
  {
   "cell_type": "code",
   "execution_count": 11,
   "id": "0a1ad3da",
   "metadata": {},
   "outputs": [],
   "source": [
    "import matplotlib.pyplot as plt\n",
    "import seaborn as sns\n",
    "%matplotlib inline "
   ]
  },
  {
   "cell_type": "code",
   "execution_count": 12,
   "id": "aaf5cf7c",
   "metadata": {},
   "outputs": [
    {
     "data": {
      "image/png": "[encoded data removed]",
      "text/plain": [
       "<Figure size 1296x432 with 2 Axes>"
      ]
     },
     "metadata": {
      "needs_background": "light"
     },
     "output_type": "display_data"
    }
   ],
   "source": [
    "labels = ['Pass', 'Fail']\n",
    "plt.figure(figsize=(18,6))\n",
    "plt.subplot(1,2,1)\n",
    "plt.title('Countplot of Pass/Fail')\n",
    "sns.countplot(df['Pass/Fail'])\n",
    "plt.subplot(1,2,2)\n",
    "plt.title('Pie Chart of Pass/Fail')\n",
    "df['Pass/Fail'].value_counts().plot.pie(labels=labels,shadow=True,explode=(0.1,0.1), autopct='%1.2f%%')\n",
    "plt.legend();"
   ]
  },
  {
   "cell_type": "markdown",
   "id": "1fc25b68",
   "metadata": {},
   "source": [
    "## Data Pre-processing & Co-Relation"
   ]
  },
  {
   "cell_type": "code",
   "execution_count": 13,
   "id": "fcdc9354",
   "metadata": {},
   "outputs": [
    {
     "data": {
      "text/html": [
       "<div>\n",
       "<style scoped>\n",
       "    .dataframe tbody tr th:only-of-type {\n",
       "        vertical-align: middle;\n",
       "    }\n",
       "\n",
       "    .dataframe tbody tr th {\n",
       "        vertical-align: top;\n",
       "    }\n",
       "\n",
       "    .dataframe thead th {\n",
       "        text-align: right;\n",
       "    }\n",
       "</style>\n",
       "<table border=\"1\" class=\"dataframe\">\n",
       "  <thead>\n",
       "    <tr style=\"text-align: right;\">\n",
       "      <th></th>\n",
       "      <th>0</th>\n",
       "      <th>1</th>\n",
       "      <th>2</th>\n",
       "      <th>3</th>\n",
       "      <th>4</th>\n",
       "      <th>5</th>\n",
       "      <th>6</th>\n",
       "      <th>7</th>\n",
       "      <th>8</th>\n",
       "      <th>9</th>\n",
       "      <th>...</th>\n",
       "      <th>581</th>\n",
       "      <th>582</th>\n",
       "      <th>583</th>\n",
       "      <th>584</th>\n",
       "      <th>585</th>\n",
       "      <th>586</th>\n",
       "      <th>587</th>\n",
       "      <th>588</th>\n",
       "      <th>589</th>\n",
       "      <th>Pass/Fail</th>\n",
       "    </tr>\n",
       "  </thead>\n",
       "  <tbody>\n",
       "    <tr>\n",
       "      <th>0</th>\n",
       "      <td>1.000000</td>\n",
       "      <td>-0.143840</td>\n",
       "      <td>0.004756</td>\n",
       "      <td>-0.007613</td>\n",
       "      <td>-0.011014</td>\n",
       "      <td>NaN</td>\n",
       "      <td>0.002270</td>\n",
       "      <td>0.031483</td>\n",
       "      <td>-0.052622</td>\n",
       "      <td>0.009045</td>\n",
       "      <td>...</td>\n",
       "      <td>-0.017120</td>\n",
       "      <td>0.000224</td>\n",
       "      <td>0.023453</td>\n",
       "      <td>0.019907</td>\n",
       "      <td>0.023589</td>\n",
       "      <td>0.018443</td>\n",
       "      <td>-0.025880</td>\n",
       "      <td>-0.028166</td>\n",
       "      <td>0.004174</td>\n",
       "      <td>-0.025141</td>\n",
       "    </tr>\n",
       "    <tr>\n",
       "      <th>1</th>\n",
       "      <td>-0.143840</td>\n",
       "      <td>1.000000</td>\n",
       "      <td>0.005767</td>\n",
       "      <td>-0.007568</td>\n",
       "      <td>-0.001636</td>\n",
       "      <td>NaN</td>\n",
       "      <td>-0.025564</td>\n",
       "      <td>-0.012037</td>\n",
       "      <td>0.031258</td>\n",
       "      <td>0.023964</td>\n",
       "      <td>...</td>\n",
       "      <td>0.054006</td>\n",
       "      <td>0.043556</td>\n",
       "      <td>0.002904</td>\n",
       "      <td>-0.001264</td>\n",
       "      <td>0.002273</td>\n",
       "      <td>-0.009403</td>\n",
       "      <td>0.017266</td>\n",
       "      <td>0.010118</td>\n",
       "      <td>0.044797</td>\n",
       "      <td>-0.002603</td>\n",
       "    </tr>\n",
       "    <tr>\n",
       "      <th>2</th>\n",
       "      <td>0.004756</td>\n",
       "      <td>0.005767</td>\n",
       "      <td>1.000000</td>\n",
       "      <td>0.298935</td>\n",
       "      <td>0.095891</td>\n",
       "      <td>NaN</td>\n",
       "      <td>-0.136225</td>\n",
       "      <td>-0.146213</td>\n",
       "      <td>0.023528</td>\n",
       "      <td>0.016168</td>\n",
       "      <td>...</td>\n",
       "      <td>-0.007054</td>\n",
       "      <td>-0.006023</td>\n",
       "      <td>0.015697</td>\n",
       "      <td>0.018225</td>\n",
       "      <td>0.015752</td>\n",
       "      <td>-0.025495</td>\n",
       "      <td>-0.029345</td>\n",
       "      <td>-0.030818</td>\n",
       "      <td>-0.032890</td>\n",
       "      <td>-0.000957</td>\n",
       "    </tr>\n",
       "    <tr>\n",
       "      <th>3</th>\n",
       "      <td>-0.007613</td>\n",
       "      <td>-0.007568</td>\n",
       "      <td>0.298935</td>\n",
       "      <td>1.000000</td>\n",
       "      <td>-0.058483</td>\n",
       "      <td>NaN</td>\n",
       "      <td>-0.685835</td>\n",
       "      <td>0.073856</td>\n",
       "      <td>-0.102892</td>\n",
       "      <td>0.068215</td>\n",
       "      <td>...</td>\n",
       "      <td>-0.071311</td>\n",
       "      <td>0.008988</td>\n",
       "      <td>0.025436</td>\n",
       "      <td>0.024736</td>\n",
       "      <td>0.026019</td>\n",
       "      <td>0.034711</td>\n",
       "      <td>-0.039132</td>\n",
       "      <td>-0.033645</td>\n",
       "      <td>-0.080341</td>\n",
       "      <td>-0.024623</td>\n",
       "    </tr>\n",
       "    <tr>\n",
       "      <th>4</th>\n",
       "      <td>-0.011014</td>\n",
       "      <td>-0.001636</td>\n",
       "      <td>0.095891</td>\n",
       "      <td>-0.058483</td>\n",
       "      <td>1.000000</td>\n",
       "      <td>NaN</td>\n",
       "      <td>-0.074368</td>\n",
       "      <td>-0.347734</td>\n",
       "      <td>-0.025946</td>\n",
       "      <td>0.054206</td>\n",
       "      <td>...</td>\n",
       "      <td>0.088167</td>\n",
       "      <td>0.045081</td>\n",
       "      <td>-0.001300</td>\n",
       "      <td>-0.001597</td>\n",
       "      <td>-0.001616</td>\n",
       "      <td>-0.043929</td>\n",
       "      <td>-0.031005</td>\n",
       "      <td>-0.026100</td>\n",
       "      <td>0.050910</td>\n",
       "      <td>-0.013756</td>\n",
       "    </tr>\n",
       "    <tr>\n",
       "      <th>...</th>\n",
       "      <td>...</td>\n",
       "      <td>...</td>\n",
       "      <td>...</td>\n",
       "      <td>...</td>\n",
       "      <td>...</td>\n",
       "      <td>...</td>\n",
       "      <td>...</td>\n",
       "      <td>...</td>\n",
       "      <td>...</td>\n",
       "      <td>...</td>\n",
       "      <td>...</td>\n",
       "      <td>...</td>\n",
       "      <td>...</td>\n",
       "      <td>...</td>\n",
       "      <td>...</td>\n",
       "      <td>...</td>\n",
       "      <td>...</td>\n",
       "      <td>...</td>\n",
       "      <td>...</td>\n",
       "      <td>...</td>\n",
       "      <td>...</td>\n",
       "    </tr>\n",
       "    <tr>\n",
       "      <th>586</th>\n",
       "      <td>0.018443</td>\n",
       "      <td>-0.009403</td>\n",
       "      <td>-0.025495</td>\n",
       "      <td>0.034711</td>\n",
       "      <td>-0.043929</td>\n",
       "      <td>NaN</td>\n",
       "      <td>-0.041209</td>\n",
       "      <td>0.058113</td>\n",
       "      <td>0.010433</td>\n",
       "      <td>0.033738</td>\n",
       "      <td>...</td>\n",
       "      <td>-0.283333</td>\n",
       "      <td>-0.016726</td>\n",
       "      <td>0.002257</td>\n",
       "      <td>0.001605</td>\n",
       "      <td>0.002743</td>\n",
       "      <td>1.000000</td>\n",
       "      <td>0.167913</td>\n",
       "      <td>0.164238</td>\n",
       "      <td>-0.486559</td>\n",
       "      <td>0.004156</td>\n",
       "    </tr>\n",
       "    <tr>\n",
       "      <th>587</th>\n",
       "      <td>-0.025880</td>\n",
       "      <td>0.017266</td>\n",
       "      <td>-0.029345</td>\n",
       "      <td>-0.039132</td>\n",
       "      <td>-0.031005</td>\n",
       "      <td>NaN</td>\n",
       "      <td>0.034027</td>\n",
       "      <td>-0.021426</td>\n",
       "      <td>0.022845</td>\n",
       "      <td>0.059301</td>\n",
       "      <td>...</td>\n",
       "      <td>0.272404</td>\n",
       "      <td>-0.024473</td>\n",
       "      <td>-0.002649</td>\n",
       "      <td>-0.002498</td>\n",
       "      <td>-0.002930</td>\n",
       "      <td>0.167913</td>\n",
       "      <td>1.000000</td>\n",
       "      <td>0.974276</td>\n",
       "      <td>0.390813</td>\n",
       "      <td>0.035391</td>\n",
       "    </tr>\n",
       "    <tr>\n",
       "      <th>588</th>\n",
       "      <td>-0.028166</td>\n",
       "      <td>0.010118</td>\n",
       "      <td>-0.030818</td>\n",
       "      <td>-0.033645</td>\n",
       "      <td>-0.026100</td>\n",
       "      <td>NaN</td>\n",
       "      <td>0.032227</td>\n",
       "      <td>-0.020893</td>\n",
       "      <td>0.026250</td>\n",
       "      <td>0.060758</td>\n",
       "      <td>...</td>\n",
       "      <td>0.258745</td>\n",
       "      <td>-0.020705</td>\n",
       "      <td>-0.002260</td>\n",
       "      <td>-0.001957</td>\n",
       "      <td>-0.002530</td>\n",
       "      <td>0.164238</td>\n",
       "      <td>0.974276</td>\n",
       "      <td>1.000000</td>\n",
       "      <td>0.389211</td>\n",
       "      <td>0.031167</td>\n",
       "    </tr>\n",
       "    <tr>\n",
       "      <th>589</th>\n",
       "      <td>0.004174</td>\n",
       "      <td>0.044797</td>\n",
       "      <td>-0.032890</td>\n",
       "      <td>-0.080341</td>\n",
       "      <td>0.050910</td>\n",
       "      <td>NaN</td>\n",
       "      <td>0.043777</td>\n",
       "      <td>-0.107804</td>\n",
       "      <td>-0.022770</td>\n",
       "      <td>0.004880</td>\n",
       "      <td>...</td>\n",
       "      <td>0.585288</td>\n",
       "      <td>0.041486</td>\n",
       "      <td>-0.003008</td>\n",
       "      <td>-0.003295</td>\n",
       "      <td>-0.003800</td>\n",
       "      <td>-0.486559</td>\n",
       "      <td>0.390813</td>\n",
       "      <td>0.389211</td>\n",
       "      <td>1.000000</td>\n",
       "      <td>-0.002653</td>\n",
       "    </tr>\n",
       "    <tr>\n",
       "      <th>Pass/Fail</th>\n",
       "      <td>-0.025141</td>\n",
       "      <td>-0.002603</td>\n",
       "      <td>-0.000957</td>\n",
       "      <td>-0.024623</td>\n",
       "      <td>-0.013756</td>\n",
       "      <td>NaN</td>\n",
       "      <td>0.016239</td>\n",
       "      <td>0.012991</td>\n",
       "      <td>0.028016</td>\n",
       "      <td>-0.031191</td>\n",
       "      <td>...</td>\n",
       "      <td>-0.013601</td>\n",
       "      <td>0.047020</td>\n",
       "      <td>0.005981</td>\n",
       "      <td>0.005419</td>\n",
       "      <td>0.005034</td>\n",
       "      <td>0.004156</td>\n",
       "      <td>0.035391</td>\n",
       "      <td>0.031167</td>\n",
       "      <td>-0.002653</td>\n",
       "      <td>1.000000</td>\n",
       "    </tr>\n",
       "  </tbody>\n",
       "</table>\n",
       "<p>591 rows × 591 columns</p>\n",
       "</div>"
      ],
      "text/plain": [
       "                  0         1         2         3         4   5         6  \\\n",
       "0          1.000000 -0.143840  0.004756 -0.007613 -0.011014 NaN  0.002270   \n",
       "1         -0.143840  1.000000  0.005767 -0.007568 -0.001636 NaN -0.025564   \n",
       "2          0.004756  0.005767  1.000000  0.298935  0.095891 NaN -0.136225   \n",
       "3         -0.007613 -0.007568  0.298935  1.000000 -0.058483 NaN -0.685835   \n",
       "4         -0.011014 -0.001636  0.095891 -0.058483  1.000000 NaN -0.074368   \n",
       "...             ...       ...       ...       ...       ...  ..       ...   \n",
       "586        0.018443 -0.009403 -0.025495  0.034711 -0.043929 NaN -0.041209   \n",
       "587       -0.025880  0.017266 -0.029345 -0.039132 -0.031005 NaN  0.034027   \n",
       "588       -0.028166  0.010118 -0.030818 -0.033645 -0.026100 NaN  0.032227   \n",
       "589        0.004174  0.044797 -0.032890 -0.080341  0.050910 NaN  0.043777   \n",
       "Pass/Fail -0.025141 -0.002603 -0.000957 -0.024623 -0.013756 NaN  0.016239   \n",
       "\n",
       "                  7         8         9  ...       581       582       583  \\\n",
       "0          0.031483 -0.052622  0.009045  ... -0.017120  0.000224  0.023453   \n",
       "1         -0.012037  0.031258  0.023964  ...  0.054006  0.043556  0.002904   \n",
       "2         -0.146213  0.023528  0.016168  ... -0.007054 -0.006023  0.015697   \n",
       "3          0.073856 -0.102892  0.068215  ... -0.071311  0.008988  0.025436   \n",
       "4         -0.347734 -0.025946  0.054206  ...  0.088167  0.045081 -0.001300   \n",
       "...             ...       ...       ...  ...       ...       ...       ...   \n",
       "586        0.058113  0.010433  0.033738  ... -0.283333 -0.016726  0.002257   \n",
       "587       -0.021426  0.022845  0.059301  ...  0.272404 -0.024473 -0.002649   \n",
       "588       -0.020893  0.026250  0.060758  ...  0.258745 -0.020705 -0.002260   \n",
       "589       -0.107804 -0.022770  0.004880  ...  0.585288  0.041486 -0.003008   \n",
       "Pass/Fail  0.012991  0.028016 -0.031191  ... -0.013601  0.047020  0.005981   \n",
       "\n",
       "                584       585       586       587       588       589  \\\n",
       "0          0.019907  0.023589  0.018443 -0.025880 -0.028166  0.004174   \n",
       "1         -0.001264  0.002273 -0.009403  0.017266  0.010118  0.044797   \n",
       "2          0.018225  0.015752 -0.025495 -0.029345 -0.030818 -0.032890   \n",
       "3          0.024736  0.026019  0.034711 -0.039132 -0.033645 -0.080341   \n",
       "4         -0.001597 -0.001616 -0.043929 -0.031005 -0.026100  0.050910   \n",
       "...             ...       ...       ...       ...       ...       ...   \n",
       "586        0.001605  0.002743  1.000000  0.167913  0.164238 -0.486559   \n",
       "587       -0.002498 -0.002930  0.167913  1.000000  0.974276  0.390813   \n",
       "588       -0.001957 -0.002530  0.164238  0.974276  1.000000  0.389211   \n",
       "589       -0.003295 -0.003800 -0.486559  0.390813  0.389211  1.000000   \n",
       "Pass/Fail  0.005419  0.005034  0.004156  0.035391  0.031167 -0.002653   \n",
       "\n",
       "           Pass/Fail  \n",
       "0          -0.025141  \n",
       "1          -0.002603  \n",
       "2          -0.000957  \n",
       "3          -0.024623  \n",
       "4          -0.013756  \n",
       "...              ...  \n",
       "586         0.004156  \n",
       "587         0.035391  \n",
       "588         0.031167  \n",
       "589        -0.002653  \n",
       "Pass/Fail   1.000000  \n",
       "\n",
       "[591 rows x 591 columns]"
      ]
     },
     "execution_count": 13,
     "metadata": {},
     "output_type": "execute_result"
    }
   ],
   "source": [
    "corr=df.corr()\n",
    "corr"
   ]
  },
  {
   "cell_type": "code",
   "execution_count": 14,
   "id": "70388176",
   "metadata": {},
   "outputs": [],
   "source": [
    "df=df.drop(columns=['Time'],axis=1)"
   ]
  },
  {
   "cell_type": "code",
   "execution_count": 15,
   "id": "dbb064cf",
   "metadata": {},
   "outputs": [],
   "source": [
    "#seprating Target Vs predictors \n",
    "\n",
    "x=df.drop(columns=['Pass/Fail'],axis=1)\n",
    "y=df['Pass/Fail']"
   ]
  },
  {
   "cell_type": "markdown",
   "id": "a0049132",
   "metadata": {},
   "source": [
    "#### Splitting them into train test and split "
   ]
  },
  {
   "cell_type": "code",
   "execution_count": 16,
   "id": "f15b3bff",
   "metadata": {},
   "outputs": [],
   "source": [
    "from sklearn.model_selection import train_test_split"
   ]
  },
  {
   "cell_type": "code",
   "execution_count": 17,
   "id": "7cf0a47f",
   "metadata": {},
   "outputs": [
    {
     "name": "stdout",
     "output_type": "stream",
     "text": [
      "shape of x_train:  (1096, 590)\n",
      "shape of x_test:  (471, 590)\n",
      "shape of y_train:  (1096,)\n",
      "shape of y_test:  (471,)\n"
     ]
    }
   ],
   "source": [
    "x_train, x_test, y_train, y_test = train_test_split(x, y, test_size = 0.3, random_state = 1\n",
    "                                                   )\n",
    "print(\"shape of x_train: \", x_train.shape)\n",
    "print(\"shape of x_test: \", x_test.shape)\n",
    "print(\"shape of y_train: \", y_train.shape)\n",
    "print(\"shape of y_test: \", y_test.shape)"
   ]
  },
  {
   "cell_type": "markdown",
   "id": "3305de9a",
   "metadata": {},
   "source": [
    "#### Scalling of data "
   ]
  },
  {
   "cell_type": "code",
   "execution_count": 18,
   "id": "b5481d3b",
   "metadata": {},
   "outputs": [],
   "source": [
    "from sklearn.preprocessing import StandardScaler\n",
    "sd=StandardScaler()"
   ]
  },
  {
   "cell_type": "code",
   "execution_count": 19,
   "id": "37c78ad5",
   "metadata": {},
   "outputs": [],
   "source": [
    "x_train=sd.fit_transform(x_train)\n",
    "x_test=sd.fit_transform(x_test)"
   ]
  },
  {
   "cell_type": "markdown",
   "id": "e2a79751",
   "metadata": {},
   "source": [
    "### Logistic regression"
   ]
  },
  {
   "cell_type": "code",
   "execution_count": 20,
   "id": "0a816706",
   "metadata": {},
   "outputs": [],
   "source": [
    "from sklearn.linear_model import LogisticRegression"
   ]
  },
  {
   "cell_type": "code",
   "execution_count": 21,
   "id": "d1fee338",
   "metadata": {},
   "outputs": [
    {
     "name": "stdout",
     "output_type": "stream",
     "text": [
      "Training Accuracy : 0.9990875912408759\n",
      "Test Accuracy : 0.8853503184713376\n"
     ]
    }
   ],
   "source": [
    "model=LogisticRegression()\n",
    "model.fit(x_train ,y_train)\n",
    "\n",
    "y_pred=model.predict(x_test)\n",
    "\n",
    "print('Training Accuracy :',model.score(x_train, y_train) )\n",
    "print('Test Accuracy :',model.score(x_test, y_test) )"
   ]
  },
  {
   "cell_type": "code",
   "execution_count": 22,
   "id": "7b57e53e",
   "metadata": {},
   "outputs": [
    {
     "data": {
      "text/plain": [
       "Text(42.0, 0.5, 'Actual labels')"
      ]
     },
     "execution_count": 22,
     "metadata": {},
     "output_type": "execute_result"
    },
    {
     "data": {
      "image/png": "[encoded data removed]",
      "text/plain": [
       "<Figure size 504x432 with 2 Axes>"
      ]
     },
     "metadata": {
      "needs_background": "light"
     },
     "output_type": "display_data"
    }
   ],
   "source": [
    "from sklearn.metrics import accuracy_score , confusion_matrix, classification_report\n",
    "\n",
    "plt.figure(figsize=(7,6))\n",
    "plt.title('Model:Logistic Regression')\n",
    "cm=confusion_matrix(y_pred,y_test)\n",
    "sns.heatmap(cm,annot=True,fmt='g')\n",
    "plt.xlabel('Predicted Labels')\n",
    "plt.ylabel('Actual labels')"
   ]
  },
  {
   "cell_type": "code",
   "execution_count": 23,
   "id": "4eacaa70",
   "metadata": {},
   "outputs": [
    {
     "name": "stdout",
     "output_type": "stream",
     "text": [
      "classification Matrix:\n",
      "               precision    recall  f1-score   support\n",
      "\n",
      "          -1       0.94      0.94      0.94       439\n",
      "           1       0.13      0.12      0.13        32\n",
      "\n",
      "    accuracy                           0.89       471\n",
      "   macro avg       0.53      0.53      0.53       471\n",
      "weighted avg       0.88      0.89      0.88       471\n",
      "\n"
     ]
    }
   ],
   "source": [
    "print('classification Matrix:\\n', classification_report(y_test,y_pred))  "
   ]
  },
  {
   "cell_type": "markdown",
   "id": "ca82872f",
   "metadata": {},
   "source": [
    "## Hyper Parameters and Tunning\n",
    "### Logistic Regression"
   ]
  },
  {
   "cell_type": "code",
   "execution_count": 24,
   "id": "e9735eb0",
   "metadata": {},
   "outputs": [],
   "source": [
    "from sklearn.model_selection import GridSearchCV"
   ]
  },
  {
   "cell_type": "code",
   "execution_count": 25,
   "id": "ea54e241",
   "metadata": {},
   "outputs": [],
   "source": [
    "model = LogisticRegression()\n",
    "parameters=[{'solver': [ 'lbfgs', 'liblinear'],\n",
    "              'C': [1.0],\n",
    "              'penalty': ['l1', 'l2']}]"
   ]
  },
  {
   "cell_type": "code",
   "execution_count": 26,
   "id": "9911c37e",
   "metadata": {},
   "outputs": [],
   "source": [
    "grid_search = GridSearchCV(estimator = model,\n",
    "                           param_grid = parameters,\n",
    "                           cv = 2,)"
   ]
  },
  {
   "cell_type": "code",
   "execution_count": 29,
   "id": "0c543c61",
   "metadata": {},
   "outputs": [
    {
     "data": {
      "text/plain": [
       "GridSearchCV(cv=2, estimator=LogisticRegression(),\n",
       "             param_grid=[{'C': [1.0], 'penalty': ['l1', 'l2'],\n",
       "                          'solver': ['lbfgs', 'liblinear']}])"
      ]
     },
     "execution_count": 29,
     "metadata": {},
     "output_type": "execute_result"
    }
   ],
   "source": [
    "grid_search.fit(x_train,y_train)"
   ]
  },
  {
   "cell_type": "code",
   "execution_count": 30,
   "id": "4d40d21e",
   "metadata": {},
   "outputs": [
    {
     "name": "stdout",
     "output_type": "stream",
     "text": [
      "{'C': 1.0, 'penalty': 'l1', 'solver': 'liblinear'}\n"
     ]
    }
   ],
   "source": [
    "print(grid_search.best_params_)"
   ]
  },
  {
   "cell_type": "code",
   "execution_count": 31,
   "id": "74d79ea0",
   "metadata": {},
   "outputs": [
    {
     "name": "stdout",
     "output_type": "stream",
     "text": [
      "Training Accuracy : 0.9844890510948905\n",
      "Test Accuracy : 0.9023354564755839\n"
     ]
    }
   ],
   "source": [
    "model=LogisticRegression(solver='liblinear', penalty='l1', C=1.0)\n",
    "model.fit(x_train ,y_train)\n",
    "\n",
    "y_pred=model.predict(x_test)\n",
    "\n",
    "print('Training Accuracy :',model.score(x_train, y_train) )\n",
    "print('Test Accuracy :',model.score(x_test, y_test) )"
   ]
  },
  {
   "cell_type": "code",
   "execution_count": null,
   "id": "a466b962",
   "metadata": {},
   "outputs": [],
   "source": [
    "from sklearn.metrics import accuracy_score , confusion_matrix, classification_report\n",
    "\n",
    "plt.figure(figsize=(7,6))\n",
    "plt.title('Model:Logistic Regression')\n",
    "cm=confusion_matrix(y_pred,y_test)\n",
    "sns.heatmap(cm,annot=True,fmt='g')\n",
    "plt.xlabel('Predicted Labels')\n",
    "plt.ylabel('Actual labels')"
   ]
  },
  {
   "cell_type": "code",
   "execution_count": null,
   "id": "70b0ae7e",
   "metadata": {},
   "outputs": [],
   "source": [
    "print('classification Matrix:\\n', classification_report(y_test,y_pred))  "
   ]
  },
  {
   "cell_type": "markdown",
   "id": "0452d7f8",
   "metadata": {},
   "source": [
    "### Infrences Of Logistic Regression \n",
    "\n",
    " - Accuracy of  Model without Tunning is 88%.\n",
    " - Model fails to classify around 26 who were predicted aa Fail but Pass.\n",
    " - Model Fail to classify 28 who were predicted as Pass but Fail\n",
    " - who were pass. Model is able to predict 94% of those people and it performs brilliantly while predicting 94% correctly  who were pass\n",
    " - who were Fail model is able to predict only the 13% of those people and out of only 12% able to identify correctly of those who were fail\n",
    " \n",
    " ### Infrences Of Logistic Regression After model tunninga & Hyper Parameters\n",
    " \n",
    " \n",
    " - Accuracy of  Model after Tunning is 90%.\n",
    " - Model fails to classify around 17 who were predicted aa Fail but Pass.\n",
    " - Model Fail to classify 29 who were predicted as Pass but Fail\n",
    " - who were pass. Model is able to predict 94% of those people and it performs brilliantly while predicting 96% correctly  who were pass\n",
    " - who were Fail model is able to predict only the 15% of those people and out of only 09% able to identify correctly of those who were fail. while model recall score of failed is not much good \n",
    " #### Overall Model After Tunning is more Accurate ."
   ]
  },
  {
   "cell_type": "markdown",
   "id": "f2c21495",
   "metadata": {},
   "source": [
    "### Support Vector Machines"
   ]
  },
  {
   "cell_type": "code",
   "execution_count": null,
   "id": "441cb0fa",
   "metadata": {},
   "outputs": [],
   "source": [
    "from sklearn.svm import SVC"
   ]
  },
  {
   "cell_type": "code",
   "execution_count": null,
   "id": "1b824648",
   "metadata": {},
   "outputs": [],
   "source": [
    "model=SVC()\n",
    "model.fit(x_train ,y_train)\n",
    "\n",
    "y_pred2=model.predict(x_test)\n",
    "\n",
    "print('Training Accuracy :',model.score(x_train, y_train) )\n",
    "print('Test Accuracy :',model.score(x_test, y_test) )"
   ]
  },
  {
   "cell_type": "code",
   "execution_count": null,
   "id": "92aae97f",
   "metadata": {},
   "outputs": [],
   "source": [
    "plt.figure(figsize=(7,6))\n",
    "plt.title('Model:Support Vector Machine')\n",
    "cm=confusion_matrix(y_pred2,y_test)\n",
    "sns.heatmap(cm,annot=True,fmt='g')\n",
    "plt.xlabel('Predicted Labels')\n",
    "plt.ylabel('Actual labels')"
   ]
  },
  {
   "cell_type": "code",
   "execution_count": null,
   "id": "1962721e",
   "metadata": {},
   "outputs": [],
   "source": [
    "print('classification Matrix:\\n', classification_report(y_test, y_pred2))  "
   ]
  },
  {
   "cell_type": "markdown",
   "id": "b7742d25",
   "metadata": {},
   "source": [
    "## Hyper Parameters and Tunning\n",
    "### Support Vector Machines"
   ]
  },
  {
   "cell_type": "code",
   "execution_count": null,
   "id": "7ef77bb4",
   "metadata": {},
   "outputs": [],
   "source": [
    "model=SVC()\n",
    "parameters=[{'kernel': ['linear', ' poly' , 'rbf', 'sigmoid'],\n",
    "              'C': [1.0,0.1,100],\n",
    "             'gamma':['scale','auto']}]"
   ]
  },
  {
   "cell_type": "code",
   "execution_count": null,
   "id": "5ad80fbd",
   "metadata": {},
   "outputs": [],
   "source": [
    "grid_search = GridSearchCV(estimator = model,\n",
    "                           param_grid = parameters,\n",
    "                           cv = 2,)"
   ]
  },
  {
   "cell_type": "code",
   "execution_count": null,
   "id": "b42b183a",
   "metadata": {},
   "outputs": [],
   "source": [
    "grid_search.fit(x_train,y_train)"
   ]
  },
  {
   "cell_type": "code",
   "execution_count": null,
   "id": "2e790a97",
   "metadata": {},
   "outputs": [],
   "source": [
    "print(grid_search.best_params_)"
   ]
  },
  {
   "cell_type": "code",
   "execution_count": null,
   "id": "02c5778c",
   "metadata": {},
   "outputs": [],
   "source": [
    "model=SVC(C=1.0, gamma='scale', kernel='rbf')\n",
    "model.fit(x_train ,y_train)\n",
    "\n",
    "y_pred=model.predict(x_test)\n",
    "\n",
    "print('Training Accuracy :',model.score(x_train, y_train) )\n",
    "print('Test Accuracy :',model.score(x_test, y_test) )"
   ]
  },
  {
   "cell_type": "code",
   "execution_count": null,
   "id": "7d5428b2",
   "metadata": {},
   "outputs": [],
   "source": [
    "plt.figure(figsize=(7,6))\n",
    "plt.title('Model:Support Vector Machine')\n",
    "cm=confusion_matrix(y_pred,y_test)\n",
    "sns.heatmap(cm,annot=True,fmt='g')\n",
    "plt.xlabel('Predicted Labels')\n",
    "plt.ylabel('Actual labels')"
   ]
  },
  {
   "cell_type": "code",
   "execution_count": null,
   "id": "d5cef390",
   "metadata": {},
   "outputs": [],
   "source": [
    "print('classification Matrix:\\n', classification_report(y_test, y_pred2))  "
   ]
  },
  {
   "cell_type": "markdown",
   "id": "bd4a601f",
   "metadata": {},
   "source": [
    "### Infrences Of SVC\n",
    "\n",
    " - Accuracy of  Model without Tunning is 93%.\n",
    " - Model fails to classify ones who were Fail but Pass.\n",
    " - Model Fail to classify 32 who were predicted as Pass but Fail\n",
    " - who were pass. Model is able to predict 93% of those people and it performs brilliantly while predicting 100% correctly  who were pass\n",
    " ### Infrences Of SVC After model tunninga & Hyper Parameters\n",
    " \n",
    " \n",
    " - Accuracy of  Model after Tunning is 93%.\n",
    " - Model fails to classify ones who were Fail but Pass.\n",
    " - Model Fail to classify 32 who were predicted as Pass but Fail\n",
    " - who were pass. Model is able to predict 94% of those people and it performs brilliantly while predicting 100% correctly  who were pass\n",
    " #### Overall Model is same After doing tunning As well ."
   ]
  },
  {
   "cell_type": "markdown",
   "id": "4e0245e3",
   "metadata": {},
   "source": [
    "### KNeighborsClassifier"
   ]
  },
  {
   "cell_type": "code",
   "execution_count": null,
   "id": "27e0d254",
   "metadata": {},
   "outputs": [],
   "source": [
    "from sklearn.neighbors import KNeighborsClassifier"
   ]
  },
  {
   "cell_type": "code",
   "execution_count": null,
   "id": "bc97d14a",
   "metadata": {},
   "outputs": [],
   "source": [
    "model = KNeighborsClassifier()\n",
    "model.fit(x_train, y_train)\n",
    "\n",
    "y_pred3 = model.predict(x_test)\n",
    "\n",
    "print(\"Training Accuracy: \", model.score(x_train, y_train))\n",
    "print('Testing Accuarcy: ', model.score(x_test, y_test))"
   ]
  },
  {
   "cell_type": "code",
   "execution_count": null,
   "id": "43332a96",
   "metadata": {},
   "outputs": [],
   "source": [
    "plt.figure(figsize=(7,6))\n",
    "plt.title('Model:KNN Classifier')\n",
    "cm=confusion_matrix(y_test, y_pred3)\n",
    "sns.heatmap(cm,annot=True,fmt='g', cmap='summer')\n",
    "plt.xlabel('Predicted Labels')\n",
    "plt.ylabel('Actual labels')"
   ]
  },
  {
   "cell_type": "code",
   "execution_count": null,
   "id": "23ee14cd",
   "metadata": {},
   "outputs": [],
   "source": [
    "print('classification Matrix:\\n', classification_report(y_pred3,y_test))  "
   ]
  },
  {
   "cell_type": "markdown",
   "id": "fcefc441",
   "metadata": {},
   "source": [
    "## Hyper Parameters and Tunning\n",
    "### KNeighborsClassifier"
   ]
  },
  {
   "cell_type": "code",
   "execution_count": null,
   "id": "4b2ddca5",
   "metadata": {},
   "outputs": [],
   "source": [
    "model=KNeighborsClassifier()\n",
    "parameters = [{'n_neighbors': range(1,8),\n",
    "              \"weights\":['uniform','distance'],\n",
    "              \"algorithm\": ['auto', 'ball_tree','kd_tree'],\n",
    "              'metric' :['euclidean', 'manhattan', 'minkowski']}]"
   ]
  },
  {
   "cell_type": "code",
   "execution_count": null,
   "id": "37b06406",
   "metadata": {},
   "outputs": [],
   "source": [
    "grid_search = GridSearchCV(estimator = model,\n",
    "                           param_grid = parameters,\n",
    "                           cv = 3,)"
   ]
  },
  {
   "cell_type": "code",
   "execution_count": null,
   "id": "dc23ca93",
   "metadata": {},
   "outputs": [],
   "source": [
    "grid_search.fit(x_train,y_train)"
   ]
  },
  {
   "cell_type": "code",
   "execution_count": null,
   "id": "15823aa2",
   "metadata": {},
   "outputs": [],
   "source": [
    "print(grid_search.best_params_)"
   ]
  },
  {
   "cell_type": "code",
   "execution_count": null,
   "id": "1d587d31",
   "metadata": {},
   "outputs": [],
   "source": [
    "model = KNeighborsClassifier(algorithm='auto', metric='euclidean', n_neighbors= 7, weights='uniform')\n",
    "model.fit(x_train, y_train)\n",
    "\n",
    "y_pred = model.predict(x_test)\n",
    "\n",
    "print(\"Training Accuracy: \", model.score(x_train, y_train))\n",
    "print('Testing Accuarcy: ', model.score(x_test, y_test))"
   ]
  },
  {
   "cell_type": "code",
   "execution_count": null,
   "id": "82d8fe3d",
   "metadata": {},
   "outputs": [],
   "source": [
    "plt.figure(figsize=(7,6))\n",
    "plt.title('Model:KNN Classifier')\n",
    "cm=confusion_matrix(y_test, y_pred)\n",
    "sns.heatmap(cm,annot=True,fmt='g', cmap='summer')\n",
    "plt.xlabel('Predicted Labels')\n",
    "plt.ylabel('Actual labels')"
   ]
  },
  {
   "cell_type": "code",
   "execution_count": null,
   "id": "e7d51ef8",
   "metadata": {},
   "outputs": [],
   "source": [
    "print('classification Matrix:\\n', classification_report(y_pred,y_test))  "
   ]
  },
  {
   "cell_type": "markdown",
   "id": "e2c714e1",
   "metadata": {},
   "source": [
    "### Infrences Of KNneighborClassifier Regression \n",
    "\n",
    " - Accuracy of  Model without Tunning is 92%.\n",
    " - Model fails to classify around 32 who were predicted aa Fail but Pass.\n",
    " - Model Fail to classify 2 who were predicted as Pass but Fail\n",
    " - who were pass. Model is able to predict 100% of those people and it performs brilliantly while predicting 93% correctly    who were pass\n",
    " - who were Fail model is able to predict only the 2% of those people who were fail.\n",
    " \n",
    " ### Infrences Of KNneighborClassifier After model tunninga & Hyper Parameters\n",
    " \n",
    " \n",
    " - Accuracy of  Model after Tunning is 93%.\n",
    " - Model fails to classify around 32 who were predicted aa Fail but Pass.\n",
    " - Model Fail to classify who predicted as Pass but Fail\n",
    " - who were pass. Model is able to predict 100% of those people and it performs brilliantly while predicting 93% correctly    who were pass\n",
    " - who were Fail model is not able to predict.\n",
    " \n",
    " #### Overall Model before Tunning is more Accurate ."
   ]
  },
  {
   "cell_type": "markdown",
   "id": "23a469ae",
   "metadata": {},
   "source": [
    "###  AdaBoostClassifier"
   ]
  },
  {
   "cell_type": "code",
   "execution_count": null,
   "id": "f2ae9dce",
   "metadata": {},
   "outputs": [],
   "source": [
    "from sklearn.ensemble import AdaBoostClassifier"
   ]
  },
  {
   "cell_type": "code",
   "execution_count": null,
   "id": "d64465d6",
   "metadata": {},
   "outputs": [],
   "source": [
    "model = AdaBoostClassifier()\n",
    "model.fit(x_train, y_train)\n",
    "\n",
    "y_pred4 = model.predict(x_test)\n",
    "\n",
    "print(\"Training Accuracy: \", model.score(x_train, y_train))\n",
    "print('Testing Accuarcy: ', model.score(x_test, y_test))"
   ]
  },
  {
   "cell_type": "code",
   "execution_count": null,
   "id": "d909a0d5",
   "metadata": {},
   "outputs": [],
   "source": [
    "plt.figure(figsize=(7,6))\n",
    "plt.title('Model:Adaboost Classifier')\n",
    "cm=confusion_matrix(y_test, y_pred4)\n",
    "\n",
    "sns.heatmap(cm,annot=True,fmt='g' ,cmap = 'YlGnBu')\n",
    "plt.xlabel('Predicted Labels')\n",
    "plt.ylabel('Actual labels')"
   ]
  },
  {
   "cell_type": "code",
   "execution_count": null,
   "id": "b356e96e",
   "metadata": {},
   "outputs": [],
   "source": [
    "print('classification Matrix:\\n', classification_report(y_pred4,y_test))  "
   ]
  },
  {
   "cell_type": "markdown",
   "id": "c992479a",
   "metadata": {},
   "source": [
    "## Hyper Parameters and Tunning\n",
    "### AdaBoostClassifier"
   ]
  },
  {
   "cell_type": "code",
   "execution_count": null,
   "id": "5229339b",
   "metadata": {},
   "outputs": [],
   "source": [
    "model=AdaBoostClassifier()\n",
    "parameters = [{'n_estimators': [50,100,1000],\n",
    "              \"algorithm\": ['SAMME','SAMME.R'],\n",
    "              'learning_rate' :[1.0]}]"
   ]
  },
  {
   "cell_type": "code",
   "execution_count": null,
   "id": "b4cdd2c6",
   "metadata": {},
   "outputs": [],
   "source": [
    "grid_search = GridSearchCV(estimator = model,\n",
    "                           param_grid = parameters,\n",
    "                           cv = 2,)"
   ]
  },
  {
   "cell_type": "code",
   "execution_count": null,
   "id": "317334ae",
   "metadata": {},
   "outputs": [],
   "source": [
    "grid_search.fit(x_train,y_train)"
   ]
  },
  {
   "cell_type": "code",
   "execution_count": null,
   "id": "c7ec0f8f",
   "metadata": {},
   "outputs": [],
   "source": [
    "print(grid_search.best_params_)"
   ]
  },
  {
   "cell_type": "code",
   "execution_count": null,
   "id": "9374b24b",
   "metadata": {},
   "outputs": [],
   "source": [
    "model = AdaBoostClassifier(algorithm='SAMME', learning_rate=1.0, n_estimators= 150)\n",
    "model.fit(x_train, y_train)\n",
    "\n",
    "y_pred = model.predict(x_test)\n",
    "\n",
    "print(\"Training Accuracy: \", model.score(x_train, y_train))\n",
    "print('Testing Accuarcy: ', model.score(x_test, y_test))"
   ]
  },
  {
   "cell_type": "code",
   "execution_count": null,
   "id": "2757d732",
   "metadata": {},
   "outputs": [],
   "source": [
    "plt.figure(figsize=(7,6))\n",
    "plt.title('Model:ADaboost Classifier')\n",
    "cm=confusion_matrix(y_test, y_pred)\n",
    "\n",
    "sns.heatmap(cm,annot=True,fmt='g' ,cmap = 'YlGnBu')\n",
    "plt.xlabel('Predicted Labels')\n",
    "plt.ylabel('Actual labels')"
   ]
  },
  {
   "cell_type": "code",
   "execution_count": null,
   "id": "d43a5d87",
   "metadata": {},
   "outputs": [],
   "source": [
    "print('classification Matrix:\\n', classification_report(y_pred,y_test))  "
   ]
  },
  {
   "cell_type": "markdown",
   "id": "b5d7c771",
   "metadata": {},
   "source": [
    "### Infrences Of AdaboostClassifier\n",
    "\n",
    " - Accuracy of  Model without Tunning is 92%.\n",
    " - Model fails to classify around 27 who were predicted aa Fail but Pass.\n",
    " - Model Fail to classify 6 who were predicted as Pass but Fail\n",
    " - who were pass. Model is able to predict 99% of those people and it performs brilliantly while predicting 94% correctly  who were pass\n",
    " - who were Fail model is able to predict only the 19% of those people and out of only 45% able to identify correctly of those who were fail\n",
    " \n",
    " ### Infrences Of  AdaboostClassifier After model tunninga & Hyper Parameters\n",
    " \n",
    " \n",
    " - Accuracy of  Model after Tunning is 93%.\n",
    " - Model fails to classify around 26 who were predicted aa Fail but Pass.\n",
    " - Model Fail to classify 4 who were predicted as Pass but Fail\n",
    " - who were pass. Model is able to predict 99% of those people and it performs brilliantly while predicting 94% correctly  who were pass\n",
    " - who were Fail model is able to predict only the 19% of those people and out of only 60% able to identify correctly of those who were fail. while model recall score of failed is not much good\n",
    "\n",
    " #### Overall Model After Tunning is more Accurate ."
   ]
  },
  {
   "cell_type": "markdown",
   "id": "c090928e",
   "metadata": {},
   "source": [
    "### Weightage of Algorithm shown in Pie Chart "
   ]
  },
  {
   "cell_type": "code",
   "execution_count": null,
   "id": "09ab7147",
   "metadata": {},
   "outputs": [],
   "source": [
    "labels='Logistic','SVC', 'kNN', 'AdaBoostClassifier'\n",
    "accuracy=[88,93,92,93]\n",
    "colors = ['cyan', 'lightblue', 'lightgreen', 'pink', 'brown']\n",
    "explode = [0.1, 0.1,0.1,0.1]\n",
    "\n",
    "plt.rcParams['figure.figsize'] = (10,6)\n",
    "plt.pie(accuracy, colors = colors, explode = explode, labels = labels, shadow = True, autopct = '%.2f%%') \n",
    "plt.title('Pie Chart Representing every models accuracy Share', fontsize = 20)\n",
    "plt.show()"
   ]
  },
  {
   "cell_type": "markdown",
   "id": "02ce06b9",
   "metadata": {},
   "source": [
    "###  Weightage of Algorithm shown in Pie Chart after Tunnng & HyperParameters"
   ]
  },
  {
   "cell_type": "code",
   "execution_count": null,
   "id": "47be9108",
   "metadata": {},
   "outputs": [],
   "source": [
    "labels='Logistic','SVC', 'kNN', 'AdaBoostClassifier'\n",
    "accuracy=[90,93,93,93]\n",
    "colors = ['cyan', 'lightblue', 'lightgreen', 'pink', 'brown']\n",
    "explode = [0.1, 0.1,0.1,0.1]\n",
    "\n",
    "plt.rcParams['figure.figsize'] = (10,6)\n",
    "plt.pie(accuracy, colors = colors, explode = explode, labels = labels, shadow = True, autopct = '%.2f%%') \n",
    "plt.title('Pie Chart Representing every models accuracy Share', fontsize = 20)\n",
    "plt.show()"
   ]
  },
  {
   "cell_type": "markdown",
   "id": "4a15edf7",
   "metadata": {},
   "source": [
    "### Up/Over sampling \n",
    "#### Synthetic Minority Over Sampling Technique(SMOTE)\n",
    "##### Its only effect the minority class . it do  not touch the majority Class"
   ]
  },
  {
   "cell_type": "code",
   "execution_count": null,
   "id": "7e09aa98",
   "metadata": {},
   "outputs": [],
   "source": [
    "#!pip install -U imbalanced-learn\n",
    "\n",
    "from imblearn.over_sampling import SMOTE\n",
    "from sklearn import metrics \n",
    "\n",
    "sm=SMOTE(k_neighbors=5 , random_state=1 , sampling_strategy='auto')\n",
    "x_resample, y_resample=sm.fit_resample(x,y.ravel())\n",
    "\n",
    "print(x_resample.shape)\n",
    "print(y_resample.shape)"
   ]
  },
  {
   "cell_type": "code",
   "execution_count": null,
   "id": "58b853ec",
   "metadata": {},
   "outputs": [],
   "source": [
    "x_train_re, x_test_re, y_train_re, y_test_re = train_test_split(x_resample, y_resample, test_size = 0.3, random_state = 1\n",
    "                                                   )\n",
    "print(\"shape of x_train: \", x_train_re.shape)\n",
    "print(\"shape of x_test: \", x_test_re.shape)\n",
    "print(\"shape of y_train: \", y_train_re.shape)\n",
    "print(\"shape of y_test: \", y_test_re.shape)"
   ]
  },
  {
   "cell_type": "code",
   "execution_count": null,
   "id": "ab94c0af",
   "metadata": {},
   "outputs": [],
   "source": [
    "sc = StandardScaler()\n",
    "x_train_re = sc.fit_transform(x_train_re)\n",
    "x_test_re = sc.transform(x_test_re)"
   ]
  },
  {
   "cell_type": "markdown",
   "id": "cd9bb325",
   "metadata": {},
   "source": [
    "### LogisticRegression()"
   ]
  },
  {
   "cell_type": "code",
   "execution_count": null,
   "id": "25288eec",
   "metadata": {},
   "outputs": [],
   "source": [
    "model=LogisticRegression()\n",
    "model.fit(x_train_re ,y_train_re)\n",
    "\n",
    "y_pred=model.predict(x_test_re)\n",
    "\n",
    "print('Training Accuracy :',model.score(x_train_re, y_train_re) )\n",
    "print('Test Accuracy :',model.score(x_test_re, y_test_re) )\n",
    "print(metrics.confusion_matrix(y_test_re,y_pred))"
   ]
  },
  {
   "cell_type": "markdown",
   "id": "f0d1e738",
   "metadata": {},
   "source": [
    "### Support vector Machine()"
   ]
  },
  {
   "cell_type": "code",
   "execution_count": null,
   "id": "fdf615b9",
   "metadata": {},
   "outputs": [],
   "source": [
    "model=SVC()\n",
    "model.fit(x_train_re ,y_train_re)\n",
    "\n",
    "y_pred=model.predict(x_test_re)\n",
    "\n",
    "print('Training Accuracy :',model.score(x_train_re, y_train_re) )\n",
    "print('Test Accuracy :',model.score(x_test_re, y_test_re) )\n",
    "print(metrics.confusion_matrix(y_test_re,y_pred))"
   ]
  },
  {
   "cell_type": "markdown",
   "id": "6874789d",
   "metadata": {},
   "source": [
    "### KNeighborsClassifier()"
   ]
  },
  {
   "cell_type": "code",
   "execution_count": null,
   "id": "de17d683",
   "metadata": {},
   "outputs": [],
   "source": [
    "model=KNeighborsClassifier()\n",
    "model.fit(x_train_re,y_train_re)\n",
    "\n",
    "y_pred=model.predict(x_test_re)\n",
    "\n",
    "print('Training Accuracy :',model.score(x_train_re, y_train_re) )\n",
    "print('Test Accuracy :',model.score(x_test_re, y_test_re) )\n",
    "print(metrics.confusion_matrix(y_test_re,y_pred))"
   ]
  },
  {
   "cell_type": "markdown",
   "id": "fd9fb30f",
   "metadata": {},
   "source": [
    "### AdaBoostClassifier()"
   ]
  },
  {
   "cell_type": "code",
   "execution_count": null,
   "id": "0fd57a56",
   "metadata": {},
   "outputs": [],
   "source": [
    "model = AdaBoostClassifier()\n",
    "model.fit(x_train_re,y_train_re)\n",
    "\n",
    "y_pred=model.predict(x_test_re)\n",
    "\n",
    "print('Training Accuracy :',model.score(x_train_re, y_train_re) )\n",
    "print('Test Accuracy :',model.score(x_test_re, y_test_re) )\n",
    "print(metrics.confusion_matrix(y_test_re,y_pred))"
   ]
  },
  {
   "cell_type": "markdown",
   "id": "8d1c74f8",
   "metadata": {},
   "source": [
    "### Infrences Of Up sampling\n",
    "\n",
    " - Logistic Regressin- Get more Accuracy from earlier i.e accuracy is 94% now as earlier it is 90% which is really efficient. \n",
    " - SVC - Get more Accuracy from earlier i.e accuracy is 99% now as earlier it is 93% which is really efficient. it is the best till yet.\n",
    " - KNN - Not working good with Up sampling i.e accuracy is 61% now  as earlier it is 93%.\n",
    " - Adaboost Classifier - It is almost same i.e accuracy is 92% now as earlier it is 93% which is almost same.\n",
    " "
   ]
  },
  {
   "cell_type": "markdown",
   "id": "d5c438b2",
   "metadata": {},
   "source": [
    "###  Down/Under Sampling "
   ]
  },
  {
   "cell_type": "code",
   "execution_count": null,
   "id": "884796ee",
   "metadata": {},
   "outputs": [],
   "source": [
    "df['Pass/Fail'].value_counts()"
   ]
  },
  {
   "cell_type": "code",
   "execution_count": null,
   "id": "3532db0f",
   "metadata": {},
   "outputs": [],
   "source": [
    "failed_tests = np.array(df[df['Pass/Fail'] == 1].index)\n",
    "no_failed_tests = len(failed_tests)\n",
    "\n",
    "print(no_failed_tests)"
   ]
  },
  {
   "cell_type": "code",
   "execution_count": null,
   "id": "cb5b9153",
   "metadata": {},
   "outputs": [],
   "source": [
    "passed_tests = np.array(df[df['Pass/Fail'] == -1].index)\n",
    "no_passed_tests = len(passed_tests)\n",
    "\n",
    "print(no_passed_tests)"
   ]
  },
  {
   "cell_type": "code",
   "execution_count": null,
   "id": "c9bb0d0e",
   "metadata": {},
   "outputs": [],
   "source": [
    "random_indices = np.random.choice(passed_tests,size=no_failed_tests, replace=False)\n",
    "random_indices = np.array(random_indices)\n",
    "\n",
    "print(len(random_indices))"
   ]
  },
  {
   "cell_type": "code",
   "execution_count": null,
   "id": "a2258dd5",
   "metadata": {},
   "outputs": [],
   "source": [
    "down_sample = np.concatenate([failed_tests,random_indices])\n",
    "print(len(down_sample))"
   ]
  },
  {
   "cell_type": "code",
   "execution_count": null,
   "id": "af2f3fbf",
   "metadata": {},
   "outputs": [],
   "source": [
    "df_down_sample = df.loc[down_sample]  "
   ]
  },
  {
   "cell_type": "code",
   "execution_count": null,
   "id": "6188b65c",
   "metadata": {},
   "outputs": [],
   "source": [
    "x_dn = df_down_sample.iloc[:, df_down_sample.columns != 'Pass/Fail'] \n",
    "y_dn = df_down_sample.iloc[:, df_down_sample.columns == 'Pass/Fail']\n",
    "\n",
    "print(x.shape)\n",
    "print(y.shape)"
   ]
  },
  {
   "cell_type": "code",
   "execution_count": null,
   "id": "13c61fc2",
   "metadata": {},
   "outputs": [],
   "source": [
    "\n",
    "x_train_dn, x_test_dn, y_train_dn, y_test_dn = train_test_split(x_dn, y_dn, test_size = 0.2, random_state = 0)\n",
    "\n",
    "print(x_train_dn.shape)\n",
    "print(y_train_dn.shape)\n",
    "print(x_test_dn.shape)\n",
    "print(y_test_dn.shape)"
   ]
  },
  {
   "cell_type": "code",
   "execution_count": null,
   "id": "36c1104e",
   "metadata": {},
   "outputs": [],
   "source": [
    "sc = StandardScaler()\n",
    "x_train_dn = sc.fit_transform(x_train_dn)\n",
    "x_test_dn = sc.transform(x_test_dn)"
   ]
  },
  {
   "cell_type": "markdown",
   "id": "8959086a",
   "metadata": {},
   "source": [
    "### LogisticRegression()"
   ]
  },
  {
   "cell_type": "code",
   "execution_count": null,
   "id": "95887cca",
   "metadata": {},
   "outputs": [],
   "source": [
    "model=LogisticRegression()\n",
    "model.fit(x_train_dn ,y_train_dn)\n",
    "\n",
    "y_pred=model.predict(x_test_dn)\n",
    "\n",
    "print('Training Accuracy :',model.score(x_train_dn, y_train_dn) )\n",
    "print('Test Accuracy :',model.score(x_test_dn, y_test_dn) )\n",
    "print(metrics.confusion_matrix(y_test_dn,y_pred))"
   ]
  },
  {
   "cell_type": "markdown",
   "id": "03eadbf5",
   "metadata": {},
   "source": [
    "### Support vector Machine()"
   ]
  },
  {
   "cell_type": "code",
   "execution_count": null,
   "id": "bf368e2d",
   "metadata": {},
   "outputs": [],
   "source": [
    "model=SVC()\n",
    "model.fit(x_train_dn ,y_train_dn)\n",
    "\n",
    "y_pred=model.predict(x_test_dn)\n",
    "\n",
    "print('Training Accuracy :',model.score(x_train_dn, y_train_dn) )\n",
    "print('Test Accuracy :',model.score(x_test_dn, y_test_dn) )\n",
    "print(metrics.confusion_matrix(y_test_dn,y_pred))"
   ]
  },
  {
   "cell_type": "markdown",
   "id": "c9d9661d",
   "metadata": {},
   "source": [
    "### KNeighborsClassifier()"
   ]
  },
  {
   "cell_type": "code",
   "execution_count": null,
   "id": "bedb36fe",
   "metadata": {},
   "outputs": [],
   "source": [
    "model=KNeighborsClassifier()\n",
    "model.fit(x_train_dn ,y_train_dn)\n",
    "\n",
    "y_pred=model.predict(x_test_dn)\n",
    "\n",
    "print('Training Accuracy :',model.score(x_train_dn, y_train_dn) )\n",
    "print('Test Accuracy :',model.score(x_test_dn, y_test_dn) )\n",
    "print(metrics.confusion_matrix(y_test_dn,y_pred))"
   ]
  },
  {
   "cell_type": "markdown",
   "id": "b89a2d9c",
   "metadata": {},
   "source": [
    "### AdaBoostClassifier()"
   ]
  },
  {
   "cell_type": "code",
   "execution_count": null,
   "id": "c69043c9",
   "metadata": {},
   "outputs": [],
   "source": [
    "model=AdaBoostClassifier()\n",
    "model.fit(x_train_dn ,y_train_dn)\n",
    "\n",
    "y_pred=model.predict(x_test_dn)\n",
    "\n",
    "print('Training Accuracy :',model.score(x_train_dn, y_train_dn) )\n",
    "print('Test Accuracy :',model.score(x_test_dn, y_test_dn) )\n",
    "print(metrics.confusion_matrix(y_test_dn,y_pred))"
   ]
  },
  {
   "cell_type": "markdown",
   "id": "549da925",
   "metadata": {},
   "source": [
    "### Infrences Of Down sampling\n",
    "\n",
    "##### Down sampling is not really helpful for as:-\n",
    "  - No model is giving good accuracy.\n",
    "  - Training accuracy is good but fail in Testing accuracy.\n",
    "  - Its shows overfiiting in the  model"
   ]
  },
  {
   "cell_type": "markdown",
   "id": "95627c9d",
   "metadata": {},
   "source": [
    "###  PCA (Dimensionality Reduction)"
   ]
  },
  {
   "cell_type": "code",
   "execution_count": null,
   "id": "1bff3824",
   "metadata": {},
   "outputs": [],
   "source": [
    "from sklearn.decomposition import PCA"
   ]
  },
  {
   "cell_type": "code",
   "execution_count": null,
   "id": "893a7b88",
   "metadata": {},
   "outputs": [],
   "source": [
    "# Aplying Zscore to the data \n",
    "from scipy.stats import zscore\n",
    "data_new=df.iloc[:,:590].apply(zscore)"
   ]
  },
  {
   "cell_type": "code",
   "execution_count": null,
   "id": "d75f35cb",
   "metadata": {},
   "outputs": [],
   "source": [
    "#Checking Nan Values \n",
    "data_new.isnull().any().any()"
   ]
  },
  {
   "cell_type": "code",
   "execution_count": null,
   "id": "f03db933",
   "metadata": {},
   "outputs": [],
   "source": [
    "# Changing Nan values with 0\n",
    "data_new = data_new.replace(np.NaN, 0)"
   ]
  },
  {
   "cell_type": "code",
   "execution_count": null,
   "id": "63bd38e5",
   "metadata": {},
   "outputs": [],
   "source": [
    "data_new.isnull().any().any()"
   ]
  },
  {
   "cell_type": "code",
   "execution_count": null,
   "id": "e86445ab",
   "metadata": {},
   "outputs": [],
   "source": [
    "# separating the dependent and independent data\n",
    "\n",
    "x = data_new\n",
    "y = df[\"Pass/Fail\"]\n",
    "\n",
    "# getting the shapes of new data sets x and y\n",
    "print(\"shape of x:\", x.shape)\n",
    "print(\"shape of y:\", y.shape)"
   ]
  },
  {
   "cell_type": "code",
   "execution_count": null,
   "id": "62af2b43",
   "metadata": {},
   "outputs": [],
   "source": [
    "# Covariance matrix \n",
    "covmatrix=np.cov(df, rowvar=False)\n",
    "print(covmatrix)"
   ]
  },
  {
   "cell_type": "code",
   "execution_count": null,
   "id": "1e373cd7",
   "metadata": {},
   "outputs": [],
   "source": [
    "# Step 2- Get eigen values and eigen vector\n",
    "eig_vals, eig_vecs = np.linalg.eig(covmatrix)\n",
    "print('Eigen Vectors \\n%s', eig_vecs)\n",
    "print('\\n Eigen Values \\n%s', eig_vals)"
   ]
  },
  {
   "cell_type": "code",
   "execution_count": null,
   "id": "e2c425b4",
   "metadata": {},
   "outputs": [],
   "source": [
    "# CHceking PCA Variables with 200\n",
    "pca=PCA(n_components=200)\n",
    "pca.fit(x)"
   ]
  },
  {
   "cell_type": "code",
   "execution_count": null,
   "id": "2ec4433e",
   "metadata": {},
   "outputs": [],
   "source": [
    "plt.step(list(range(200)),np.cumsum(pca.explained_variance_ratio_),where='mid')\n",
    "plt.ylabel('Variation explained')\n",
    "plt.xlabel('Components')\n",
    "plt.show()"
   ]
  },
  {
   "cell_type": "markdown",
   "id": "8dfc1916",
   "metadata": {},
   "source": [
    "###  PCA with (Components=150)\n",
    "  - As it is able is cover almost all the variance"
   ]
  },
  {
   "cell_type": "code",
   "execution_count": null,
   "id": "702f9b9f",
   "metadata": {},
   "outputs": [],
   "source": [
    "pca=PCA(n_components=150)\n",
    "pca.fit(x)"
   ]
  },
  {
   "cell_type": "code",
   "execution_count": null,
   "id": "544e7b6c",
   "metadata": {},
   "outputs": [],
   "source": [
    "print(pca.components_)"
   ]
  },
  {
   "cell_type": "code",
   "execution_count": null,
   "id": "b800a06c",
   "metadata": {},
   "outputs": [],
   "source": [
    "print(pca.explained_variance_)"
   ]
  },
  {
   "cell_type": "code",
   "execution_count": null,
   "id": "05ee3265",
   "metadata": {},
   "outputs": [],
   "source": [
    "print(pca.explained_variance_ratio_)"
   ]
  },
  {
   "cell_type": "code",
   "execution_count": null,
   "id": "32de9bc1",
   "metadata": {},
   "outputs": [],
   "source": [
    "Xpca=pca.transform(x)\n",
    "Xpca.T"
   ]
  },
  {
   "cell_type": "code",
   "execution_count": null,
   "id": "76a00580",
   "metadata": {},
   "outputs": [],
   "source": [
    "Xpca.shape"
   ]
  },
  {
   "cell_type": "markdown",
   "id": "c2afcb09",
   "metadata": {},
   "source": [
    "###  Making a new DataFrame with PCA Variables and Adding Target variable into it ."
   ]
  },
  {
   "cell_type": "code",
   "execution_count": null,
   "id": "aacf0573",
   "metadata": {},
   "outputs": [],
   "source": [
    "new_df=pd.DataFrame(Xpca)\n",
    "new_df.head()"
   ]
  },
  {
   "cell_type": "code",
   "execution_count": null,
   "id": "1882a71f",
   "metadata": {},
   "outputs": [],
   "source": [
    "new_df['Pass/Fail']=df['Pass/Fail']\n",
    "new_df.head()"
   ]
  },
  {
   "cell_type": "code",
   "execution_count": null,
   "id": "49193e40",
   "metadata": {},
   "outputs": [],
   "source": [
    "x_pca=new_df.drop(columns=['Pass/Fail'],axis=1)\n",
    "y_pca=new_df['Pass/Fail']\n",
    "\n",
    "print(\"shape of x:\", x.shape)\n",
    "print(\"shape of y:\", y.shape)"
   ]
  },
  {
   "cell_type": "code",
   "execution_count": null,
   "id": "3ad29e59",
   "metadata": {},
   "outputs": [],
   "source": [
    "x_train_pc, x_test_pc, y_train_pc, y_test_pc = train_test_split(x_pca, y_pca, test_size = 0.3, random_state = 1)\n",
    "\n",
    "print(\"shape of x_train: \", x_train_pc.shape)\n",
    "print(\"shape of x_test: \", x_test_pc.shape)\n",
    "print(\"shape of y_train: \", y_train_pc.shape)\n",
    "print(\"shape of y_test: \", y_test_pc.shape)"
   ]
  },
  {
   "cell_type": "markdown",
   "id": "595fe6de",
   "metadata": {},
   "source": [
    "### LogisticRegression()"
   ]
  },
  {
   "cell_type": "code",
   "execution_count": null,
   "id": "2da306d0",
   "metadata": {},
   "outputs": [],
   "source": [
    "model=LogisticRegression()\n",
    "model.fit(x_train_pc ,y_train_pc)\n",
    "\n",
    "y_pred=model.predict(x_test_pc)\n",
    "\n",
    "print('Training Accuracy :',model.score(x_train_pc, y_train_pc) )\n",
    "print('Test Accuracy :',model.score(x_test_pc, y_test_pc) )\n",
    "print(metrics.confusion_matrix(y_test_pc,y_pred))"
   ]
  },
  {
   "cell_type": "markdown",
   "id": "e3b40012",
   "metadata": {},
   "source": [
    "### SVC()"
   ]
  },
  {
   "cell_type": "code",
   "execution_count": null,
   "id": "ebb314ff",
   "metadata": {},
   "outputs": [],
   "source": [
    "model=SVC()\n",
    "model.fit(x_train_pc ,y_train_pc)\n",
    "\n",
    "y_pred=model.predict(x_test_pc)\n",
    "\n",
    "print('Training Accuracy :',model.score(x_train_pc, y_train_pc) )\n",
    "print('Test Accuracy :',model.score(x_test_pc, y_test_pc) )\n",
    "print(metrics.confusion_matrix(y_test_pc,y_pred))\n"
   ]
  },
  {
   "cell_type": "markdown",
   "id": "eecf20c2",
   "metadata": {},
   "source": [
    "### KNeighborsClassifier()"
   ]
  },
  {
   "cell_type": "code",
   "execution_count": null,
   "id": "36173271",
   "metadata": {},
   "outputs": [],
   "source": [
    "model=KNeighborsClassifier()\n",
    "model.fit(x_train_pc ,y_train_pc)\n",
    "\n",
    "y_pred=model.predict(x_test_pc)\n",
    "\n",
    "print('Training Accuracy :',model.score(x_train_pc, y_train_pc) )\n",
    "print('Test Accuracy :',model.score(x_test_pc, y_test_pc) )\n",
    "print(metrics.confusion_matrix(y_test_pc,y_pred))"
   ]
  },
  {
   "cell_type": "markdown",
   "id": "66bc9947",
   "metadata": {},
   "source": [
    "### AdaBoostClassifier()"
   ]
  },
  {
   "cell_type": "code",
   "execution_count": null,
   "id": "821990d4",
   "metadata": {},
   "outputs": [],
   "source": [
    "model = AdaBoostClassifier()\n",
    "model.fit(x_train_pc ,y_train_pc)\n",
    "\n",
    "y_pred=model.predict(x_test_pc)\n",
    "\n",
    "print('Training Accuracy :',model.score(x_train_pc, y_train_pc) )\n",
    "print('Test Accuracy :',model.score(x_test_pc, y_test_pc) )\n",
    "print(metrics.confusion_matrix(y_test_pc,y_pred))"
   ]
  },
  {
   "cell_type": "markdown",
   "id": "f7d9f71a",
   "metadata": {},
   "source": [
    "###  Infrences of PCA \n",
    " - As its accuracy is almost same with the normal data.\n",
    " - We did Z score scaling on both the datasets and took PCA with n_components as 150 (90% variance coverage). However PCA      is not able improve either accuracy or recall probably as we were loosing information due to dropping dimensions.\n",
    " - Almost variables 589 which able to perform accuracy. PCA with 150 variables is able to perform the almost same accuray.\n",
    " - In these types of model PCA is really useful as Columns are really in large no. of size."
   ]
  },
  {
   "cell_type": "markdown",
   "id": "9ee66bd5",
   "metadata": {},
   "source": [
    "# Final Model Choice \n",
    "\n",
    "### - The Best Model for this is Support Vector Machine with Up sampling as:-\n",
    "- The Accuracy rate is Higher.\n",
    "- The Recall score of model is high.\n",
    "- We can select the Logistic Regression with upsampling as our mode as well because as accuracy of 94%.\n",
    "\n",
    "### Model with Tunning and Hyper Parameters .\n",
    "- The Accuracy rate of ADaboostClassifier is at Second with 94%.\n",
    "- The Recall score of model is high.\n",
    "- We can select the ADaboostClassifier as our mode as well because as accuracy of 94% but after SVC.\n",
    "- The Margin is of very high but at Last we will go with SVC with over sampling .\n"
   ]
  },
  {
   "cell_type": "markdown",
   "id": "c525bf38",
   "metadata": {},
   "source": [
    "## Improvements and Suggestions¶"
   ]
  },
  {
   "cell_type": "markdown",
   "id": "48bd9c15",
   "metadata": {},
   "source": [
    "- The dataset should also have contained less columns as we see PCA shows almost the same Accuracy.\n",
    "- It Can save our time and effort and result is same.\n",
    "- Overfitting can also be stopped by this ."
   ]
  }
 ],
 "metadata": {
  "kernelspec": {
   "display_name": "Python 3 (ipykernel)",
   "language": "python",
   "name": "python3"
  },
  "language_info": {
   "codemirror_mode": {
    "name": "ipython",
    "version": 3
   },
   "file_extension": ".py",
   "mimetype": "text/x-python",
   "name": "python",
   "nbconvert_exporter": "python",
   "pygments_lexer": "ipython3",
   "version": "3.9.7"
  }
 },
 "nbformat": 4,
 "nbformat_minor": 5
}
